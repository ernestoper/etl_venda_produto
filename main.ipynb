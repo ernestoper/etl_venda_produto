{
 "cells": [
  {
   "cell_type": "markdown",
   "metadata": {},
   "source": [
    "### Lendo o arquivo com usuarios"
   ]
  },
  {
   "cell_type": "code",
   "execution_count": 54,
   "metadata": {},
   "outputs": [
    {
     "name": "stdout",
     "output_type": "stream",
     "text": [
      "[0, 1, 2, 3, 4]\n"
     ]
    }
   ],
   "source": [
    "import pandas as pd\n",
    "#import json\n",
    "\n",
    "df = pd.read_json('listUsers.json')\n",
    "user_ids = df['id'].tolist()\n",
    "print(user_ids)"
   ]
  },
  {
   "cell_type": "code",
   "execution_count": 55,
   "metadata": {},
   "outputs": [
    {
     "name": "stdout",
     "output_type": "stream",
     "text": [
      "Usuários com IDs Específicos:\n",
      "id                                                          0\n",
      "name                                                  string1\n",
      "account     {'id': 3648, 'number': '01.240923-1', 'agency'...\n",
      "card        {'id': 3321, 'number': '1111 2222 3333 1111', ...\n",
      "features                                                   []\n",
      "news                                                       []\n",
      "Name: 0, dtype: object\n",
      "id                                                          1\n",
      "name                                                  string2\n",
      "account     {'id': 3648, 'number': '01.240923-1', 'agency'...\n",
      "card        {'id': 3321, 'number': '1111 2222 3333 2222', ...\n",
      "features                                                   []\n",
      "news                                                       []\n",
      "Name: 1, dtype: object\n",
      "id                                                          2\n",
      "name                                                  string3\n",
      "account     {'id': 3648, 'number': '01.240923-1', 'agency'...\n",
      "card        {'id': 3321, 'number': '1111 2222 3333 2222', ...\n",
      "features                                                   []\n",
      "news                                                       []\n",
      "Name: 2, dtype: object\n",
      "id                                                          3\n",
      "name                                                  string4\n",
      "account     {'id': 3648, 'number': '01.240923-1', 'agency'...\n",
      "card        {'id': 3321, 'number': '1111 2222 3333 4444', ...\n",
      "features                                                   []\n",
      "news                                                       []\n",
      "Name: 3, dtype: object\n",
      "id                                                          4\n",
      "name                                                  string5\n",
      "account     {'id': 3648, 'number': '01.240923-1', 'agency'...\n",
      "card        {'id': 3321, 'number': '1111 2222 3333 5555', ...\n",
      "features                                                   []\n",
      "news                                                       []\n",
      "Name: 4, dtype: object\n"
     ]
    }
   ],
   "source": [
    "\n",
    "users = [df.iloc[id] for id in user_ids if 0 <= id < len(df)]\n",
    "\n",
    "print(\"Usuários com IDs Específicos:\")\n",
    "for user in users:\n",
    "    print(user)"
   ]
  },
  {
   "cell_type": "markdown",
   "metadata": {},
   "source": [
    "### Mensagens personalizadas criado com o chatgtp-3\n",
    "\n",
    "A openai pede o cartão para usar sua api então tive que gerar no navegador as mensagens"
   ]
  },
  {
   "cell_type": "code",
   "execution_count": 57,
   "metadata": {},
   "outputs": [],
   "source": [
    "# mensagens gerar pelo chatgtp\n",
    "news1 =\"Caro string1, investir é essencial para alcançar seus objetivos financeiros a longo prazo. Nossa conta de investimento oferece diversas opções para ajudá-lo a construir um futuro financeiro sólido. Explore nossos produtos agora!\"\n",
    "news2 = \"Olá string2, Investir é o caminho para o crescimento financeiro. Confira nossos planos de investimento agora!\"\n",
    "news3 = \"Caro string3, Investir garante seu futuro. Explore nossos planos de investimento hoje!\"\n",
    "news4 = \"Olá 'string4', lembramos que investir é essencial para o futuro financeiro. Conheça nossos produtos de investimento agora e comece a construir sua prosperidade.\"\n",
    "news5 = \"Olá 'string5', não subestime a importância dos investimentos. Eles podem transformar seus sonhos em realidade. Explore nossos produtos de investimento para começar a construir um futuro financeiro sólido e alcançar seus objetivos. Saiba mais hoje mesmo!\"\n",
    "news = [news1, news2,news3,news4,news5]"
   ]
  },
  {
   "cell_type": "markdown",
   "metadata": {},
   "source": [
    "### Adicioando as mensagens a nosso json "
   ]
  },
  {
   "cell_type": "code",
   "execution_count": 58,
   "metadata": {},
   "outputs": [
    {
     "name": "stdout",
     "output_type": "stream",
     "text": [
      "Caro string1, investir é essencial para alcançar seus objetivos financeiros a longo prazo. Nossa conta de investimento oferece diversas opções para ajudá-lo a construir um futuro financeiro sólido. Explore nossos produtos agora!\n",
      "id                                                          0\n",
      "name                                                  string1\n",
      "account     {'id': 3648, 'number': '01.240923-1', 'agency'...\n",
      "card        {'id': 3321, 'number': '1111 2222 3333 1111', ...\n",
      "features                                                   []\n",
      "news        [{'icon': 'https://digitalinnovationone.github...\n",
      "Name: 0, dtype: object\n",
      "Olá string2, Investir é o caminho para o crescimento financeiro. Confira nossos planos de investimento agora!\n",
      "id                                                          1\n",
      "name                                                  string2\n",
      "account     {'id': 3648, 'number': '01.240923-1', 'agency'...\n",
      "card        {'id': 3321, 'number': '1111 2222 3333 2222', ...\n",
      "features                                                   []\n",
      "news        [{'icon': 'https://digitalinnovationone.github...\n",
      "Name: 1, dtype: object\n",
      "Caro string3, Investir garante seu futuro. Explore nossos planos de investimento hoje!\n",
      "id                                                          2\n",
      "name                                                  string3\n",
      "account     {'id': 3648, 'number': '01.240923-1', 'agency'...\n",
      "card        {'id': 3321, 'number': '1111 2222 3333 2222', ...\n",
      "features                                                   []\n",
      "news                                                       []\n",
      "Name: 2, dtype: object\n",
      "Olá 'string4', lembramos que investir é essencial para o futuro financeiro. Conheça nossos produtos de investimento agora e comece a construir sua prosperidade.\n",
      "id                                                          3\n",
      "name                                                  string4\n",
      "account     {'id': 3648, 'number': '01.240923-1', 'agency'...\n",
      "card        {'id': 3321, 'number': '1111 2222 3333 4444', ...\n",
      "features                                                   []\n",
      "news        [{'icon': 'https://digitalinnovationone.github...\n",
      "Name: 3, dtype: object\n",
      "Olá 'string5', não subestime a importância dos investimentos. Eles podem transformar seus sonhos em realidade. Explore nossos produtos de investimento para começar a construir um futuro financeiro sólido e alcançar seus objetivos. Saiba mais hoje mesmo!\n",
      "id                                                          4\n",
      "name                                                  string5\n",
      "account     {'id': 3648, 'number': '01.240923-1', 'agency'...\n",
      "card        {'id': 3321, 'number': '1111 2222 3333 5555', ...\n",
      "features                                                   []\n",
      "news        [{'icon': 'https://digitalinnovationone.github...\n",
      "Name: 4, dtype: object\n"
     ]
    }
   ],
   "source": [
    "\n",
    "\n",
    "# enviar mensagens  os usuários com saldo positivo\n",
    "for index, row in df.iterrows():\n",
    "    user_name = row['name']\n",
    "    account_balance = row['account']['balance']\n",
    "    #print(f\"Usuário: {user_name}, Saldo da Conta: {account_balance}\")\n",
    "    new = news[index]\n",
    "    print(new)\n",
    "    if account_balance>=3000:\n",
    "        row['news'].append({\n",
    "        \"icon\": \"https://digitalinnovationone.github.io/santander-dev-week-2023-api/icons/credit.svg\",\n",
    "        \"description\": new})\n",
    "\n",
    "    print(row)"
   ]
  },
  {
   "cell_type": "markdown",
   "metadata": {},
   "source": [
    "### ATUALIZAR O JSON COM AS MENSSAGENS ENVIADAS PARA OS POSSIVEIS CLIENTES"
   ]
  },
  {
   "cell_type": "code",
   "execution_count": 60,
   "metadata": {},
   "outputs": [
    {
     "name": "stdout",
     "output_type": "stream",
     "text": [
      "Mensagens enviadas\n"
     ]
    }
   ],
   "source": [
    "df.to_json('listUser_updated.json', orient='records')\n",
    "print(f'Mensagens enviadas')"
   ]
  }
 ],
 "metadata": {
  "kernelspec": {
   "display_name": "Python 3",
   "language": "python",
   "name": "python3"
  },
  "language_info": {
   "codemirror_mode": {
    "name": "ipython",
    "version": 3
   },
   "file_extension": ".py",
   "mimetype": "text/x-python",
   "name": "python",
   "nbconvert_exporter": "python",
   "pygments_lexer": "ipython3",
   "version": "3.10.12"
  },
  "orig_nbformat": 4
 },
 "nbformat": 4,
 "nbformat_minor": 2
}
